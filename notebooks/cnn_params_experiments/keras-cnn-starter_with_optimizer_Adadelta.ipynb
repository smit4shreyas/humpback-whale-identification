{
 "cells": [
  {
   "cell_type": "markdown",
   "metadata": {
    "_uuid": "da035fe58e548e8b1b7e8e89725b9e6bc745aa7b"
   },
   "source": [
    "# Humpback Whale Identification - CNN with Keras"
   ]
  },
  {
   "cell_type": "code",
   "execution_count": 1,
   "metadata": {},
   "outputs": [],
   "source": [
    "import gc\n",
    "import os\n",
    "import time"
   ]
  },
  {
   "cell_type": "code",
   "execution_count": 2,
   "metadata": {},
   "outputs": [],
   "source": [
    "# Mutual exclusion trick :O (with a lock file) #Mutex #Beurk #DeepLearning\n",
    "while os.path.isfile(\"lock\"):\n",
    "    time.sleep(30)"
   ]
  },
  {
   "cell_type": "code",
   "execution_count": 3,
   "metadata": {},
   "outputs": [],
   "source": [
    "!touch lock"
   ]
  },
  {
   "cell_type": "code",
   "execution_count": 4,
   "metadata": {
    "_uuid": "0d9c73ad23e6c2eae3028255ee00c3254fe66401"
   },
   "outputs": [
    {
     "name": "stderr",
     "output_type": "stream",
     "text": [
      "Using TensorFlow backend.\n"
     ]
    }
   ],
   "source": [
    "import numpy as np\n",
    "import pandas as pd\n",
    "import progressbar\n",
    "\n",
    "import matplotlib.pyplot as plt\n",
    "import matplotlib.image as mplimg\n",
    "from matplotlib.pyplot import imshow\n",
    "\n",
    "from sklearn.preprocessing import LabelEncoder\n",
    "from sklearn.preprocessing import OneHotEncoder\n",
    "\n",
    "from keras import layers\n",
    "from keras.preprocessing import image\n",
    "from keras.applications.imagenet_utils import preprocess_input\n",
    "from keras.layers import Input, Dense, Activation, BatchNormalization, Flatten, Conv2D\n",
    "from keras.layers import AveragePooling2D, MaxPooling2D, Dropout\n",
    "from keras.models import Model\n",
    "\n",
    "import keras.backend as K\n",
    "from keras.models import Sequential\n",
    "\n",
    "import warnings\n",
    "warnings.simplefilter(\"ignore\", category=DeprecationWarning)"
   ]
  },
  {
   "cell_type": "code",
   "execution_count": 5,
   "metadata": {
    "_uuid": "46a8839e13a14eb8d16ea6823de9927ea63d5001"
   },
   "outputs": [
    {
     "data": {
      "text/html": [
       "<div>\n",
       "<style scoped>\n",
       "    .dataframe tbody tr th:only-of-type {\n",
       "        vertical-align: middle;\n",
       "    }\n",
       "\n",
       "    .dataframe tbody tr th {\n",
       "        vertical-align: top;\n",
       "    }\n",
       "\n",
       "    .dataframe thead th {\n",
       "        text-align: right;\n",
       "    }\n",
       "</style>\n",
       "<table border=\"1\" class=\"dataframe\">\n",
       "  <thead>\n",
       "    <tr style=\"text-align: right;\">\n",
       "      <th></th>\n",
       "      <th>Image</th>\n",
       "      <th>Id</th>\n",
       "    </tr>\n",
       "  </thead>\n",
       "  <tbody>\n",
       "    <tr>\n",
       "      <th>0</th>\n",
       "      <td>0000e88ab.jpg</td>\n",
       "      <td>w_f48451c</td>\n",
       "    </tr>\n",
       "    <tr>\n",
       "      <th>1</th>\n",
       "      <td>0001f9222.jpg</td>\n",
       "      <td>w_c3d896a</td>\n",
       "    </tr>\n",
       "    <tr>\n",
       "      <th>2</th>\n",
       "      <td>00029d126.jpg</td>\n",
       "      <td>w_20df2c5</td>\n",
       "    </tr>\n",
       "    <tr>\n",
       "      <th>3</th>\n",
       "      <td>00050a15a.jpg</td>\n",
       "      <td>new_whale</td>\n",
       "    </tr>\n",
       "    <tr>\n",
       "      <th>4</th>\n",
       "      <td>0005c1ef8.jpg</td>\n",
       "      <td>new_whale</td>\n",
       "    </tr>\n",
       "  </tbody>\n",
       "</table>\n",
       "</div>"
      ],
      "text/plain": [
       "           Image         Id\n",
       "0  0000e88ab.jpg  w_f48451c\n",
       "1  0001f9222.jpg  w_c3d896a\n",
       "2  00029d126.jpg  w_20df2c5\n",
       "3  00050a15a.jpg  new_whale\n",
       "4  0005c1ef8.jpg  new_whale"
      ]
     },
     "execution_count": 5,
     "metadata": {},
     "output_type": "execute_result"
    }
   ],
   "source": [
    "train_df = pd.read_csv(\"../../input/train.csv\")\n",
    "train_df.head()"
   ]
  },
  {
   "cell_type": "code",
   "execution_count": 6,
   "metadata": {
    "_uuid": "f46b24dbba74f22833cac6140e60348b15a8e047"
   },
   "outputs": [],
   "source": [
    "def prepareImages(data, m, dataset):\n",
    "    #print(\"Preparing images\")\n",
    "    #print(m)\n",
    "    X_train = np.zeros((m, 64, 64, 3))\n",
    "    count = 0\n",
    "    \n",
    "    for fig in progressbar.progressbar(data['Image']):\n",
    "        # load images into images of size 128x128x3\n",
    "        img = image.load_img(\"../../input/\"+dataset+\"/\"+fig, target_size=(64, 64, 3))\n",
    "        x = image.img_to_array(img)\n",
    "        x = preprocess_input(x)\n",
    "        X_train[count] = x\n",
    "        count += 1\n",
    "    \n",
    "    return X_train"
   ]
  },
  {
   "cell_type": "code",
   "execution_count": 7,
   "metadata": {
    "_uuid": "6587a101b58af064af0f9c60a1070c6c8f52d45f"
   },
   "outputs": [],
   "source": [
    "def prepare_labels(y):\n",
    "    values = np.array(y)\n",
    "    label_encoder = LabelEncoder()\n",
    "    integer_encoded = label_encoder.fit_transform(values)\n",
    "    #print(integer_encoded)\n",
    "\n",
    "    onehot_encoder = OneHotEncoder(sparse=False)\n",
    "    integer_encoded = integer_encoded.reshape(len(integer_encoded), 1)\n",
    "    onehot_encoded = onehot_encoder.fit_transform(integer_encoded)\n",
    "    #print(onehot_encoded)\n",
    "\n",
    "    y = onehot_encoded\n",
    "    #print(y.shape)\n",
    "    return y, label_encoder"
   ]
  },
  {
   "cell_type": "code",
   "execution_count": 8,
   "metadata": {
    "_uuid": "4afe4128a0cd6859848c8a80686208082d647c39"
   },
   "outputs": [
    {
     "name": "stderr",
     "output_type": "stream",
     "text": [
      "100% (25361 of 25361) |##################| Elapsed Time: 0:02:53 Time:  0:02:53\n"
     ]
    }
   ],
   "source": [
    "X = prepareImages(train_df, train_df.shape[0], \"train\")\n",
    "X /= 255"
   ]
  },
  {
   "cell_type": "code",
   "execution_count": 9,
   "metadata": {
    "_uuid": "675924f8863aef27cf90dc668e0a68cd609dfc1c"
   },
   "outputs": [
    {
     "name": "stderr",
     "output_type": "stream",
     "text": [
      "/opt/anaconda3/lib/python3.6/site-packages/sklearn/preprocessing/_encoders.py:368: FutureWarning: The handling of integer data will change in version 0.22. Currently, the categories are determined based on the range [0, max(values)], while in the future they will be determined based on the unique values.\n",
      "If you want the future behaviour and silence this warning, you can specify \"categories='auto'\".\n",
      "In case you used a LabelEncoder before this OneHotEncoder to convert the categories to integers, then you can now use the OneHotEncoder directly.\n",
      "  warnings.warn(msg, FutureWarning)\n"
     ]
    }
   ],
   "source": [
    "y, label_encoder = prepare_labels(train_df['Id'])"
   ]
  },
  {
   "cell_type": "code",
   "execution_count": 10,
   "metadata": {
    "_uuid": "14d243b19023e830b636bea16679e13bc40deae6"
   },
   "outputs": [
    {
     "data": {
      "text/plain": [
       "(25361, 5005)"
      ]
     },
     "execution_count": 10,
     "metadata": {},
     "output_type": "execute_result"
    }
   ],
   "source": [
    "y.shape"
   ]
  },
  {
   "cell_type": "markdown",
   "metadata": {},
   "source": [
    "# Change model starting from here"
   ]
  },
  {
   "cell_type": "markdown",
   "metadata": {},
   "source": [
    "## Train"
   ]
  },
  {
   "cell_type": "code",
   "execution_count": 11,
   "metadata": {
    "_uuid": "e7af799d186a1b97b6aa325d7d576a1fb55a6c5d"
   },
   "outputs": [
    {
     "name": "stdout",
     "output_type": "stream",
     "text": [
      "_________________________________________________________________\n",
      "Layer (type)                 Output Shape              Param #   \n",
      "=================================================================\n",
      "conv0 (Conv2D)               (None, 58, 58, 32)        4736      \n",
      "_________________________________________________________________\n",
      "bn0 (BatchNormalization)     (None, 58, 58, 32)        128       \n",
      "_________________________________________________________________\n",
      "activation_1 (Activation)    (None, 58, 58, 32)        0         \n",
      "_________________________________________________________________\n",
      "max_pool (MaxPooling2D)      (None, 29, 29, 32)        0         \n",
      "_________________________________________________________________\n",
      "conv1 (Conv2D)               (None, 27, 27, 64)        18496     \n",
      "_________________________________________________________________\n",
      "activation_2 (Activation)    (None, 27, 27, 64)        0         \n",
      "_________________________________________________________________\n",
      "avg_pool (AveragePooling2D)  (None, 9, 9, 64)          0         \n",
      "_________________________________________________________________\n",
      "flatten_1 (Flatten)          (None, 5184)              0         \n",
      "_________________________________________________________________\n",
      "rl (Dense)                   (None, 500)               2592500   \n",
      "_________________________________________________________________\n",
      "dropout_1 (Dropout)          (None, 500)               0         \n",
      "_________________________________________________________________\n",
      "sm (Dense)                   (None, 5005)              2507505   \n",
      "=================================================================\n",
      "Total params: 5,123,365\n",
      "Trainable params: 5,123,301\n",
      "Non-trainable params: 64\n",
      "_________________________________________________________________\n"
     ]
    }
   ],
   "source": [
    "model = Sequential()\n",
    "\n",
    "model.add(Conv2D(32, (7, 7), strides = (1, 1), name = 'conv0', input_shape = (64, 64, 3)))\n",
    "\n",
    "model.add(BatchNormalization(axis = 3, name = 'bn0'))\n",
    "model.add(Activation('relu'))\n",
    "\n",
    "model.add(MaxPooling2D((2, 2), name='max_pool'))\n",
    "model.add(Conv2D(64, (3, 3), strides = (1,1), name=\"conv1\"))\n",
    "model.add(Activation('relu'))\n",
    "model.add(AveragePooling2D((3, 3), name='avg_pool'))\n",
    "\n",
    "model.add(Flatten())\n",
    "model.add(Dense(500, activation=\"relu\", name='rl'))\n",
    "model.add(Dropout(0.8))\n",
    "model.add(Dense(y.shape[1], activation='softmax', name='sm'))\n",
    "\n",
    "model.compile(loss='categorical_crossentropy', optimizer=\"adadelta\", metrics=['accuracy'])\n",
    "model.summary()"
   ]
  },
  {
   "cell_type": "code",
   "execution_count": 12,
   "metadata": {
    "_uuid": "169f45e150c3a584e0f655a8eda523e0675da63a"
   },
   "outputs": [
    {
     "name": "stdout",
     "output_type": "stream",
     "text": [
      "Epoch 1/100\n",
      "25361/25361 [==============================] - 14s 547us/step - loss: 6.5371 - acc: 0.3794\n",
      "Epoch 2/100\n",
      "25361/25361 [==============================] - 12s 489us/step - loss: 6.0541 - acc: 0.3811\n",
      "Epoch 3/100\n",
      "25361/25361 [==============================] - 12s 489us/step - loss: 5.9282 - acc: 0.3811\n",
      "Epoch 4/100\n",
      "25361/25361 [==============================] - 12s 489us/step - loss: 5.8485 - acc: 0.3811\n",
      "Epoch 5/100\n",
      "25361/25361 [==============================] - 12s 490us/step - loss: 5.8068 - acc: 0.3811\n",
      "Epoch 6/100\n",
      "25361/25361 [==============================] - 12s 490us/step - loss: 5.7612 - acc: 0.3811\n",
      "Epoch 7/100\n",
      "25361/25361 [==============================] - 12s 490us/step - loss: 5.7269 - acc: 0.3811\n",
      "Epoch 8/100\n",
      "25361/25361 [==============================] - 12s 491us/step - loss: 5.6930 - acc: 0.3811\n",
      "Epoch 9/100\n",
      "25361/25361 [==============================] - 12s 490us/step - loss: 5.6566 - acc: 0.3810\n",
      "Epoch 10/100\n",
      "25361/25361 [==============================] - 12s 491us/step - loss: 5.6274 - acc: 0.3810\n",
      "Epoch 11/100\n",
      "25361/25361 [==============================] - 12s 491us/step - loss: 5.5901 - acc: 0.3810\n",
      "Epoch 12/100\n",
      "25361/25361 [==============================] - 12s 492us/step - loss: 5.5673 - acc: 0.3809\n",
      "Epoch 13/100\n",
      "25361/25361 [==============================] - 12s 491us/step - loss: 5.5304 - acc: 0.3805\n",
      "Epoch 14/100\n",
      "25361/25361 [==============================] - 12s 492us/step - loss: 5.4878 - acc: 0.3810\n",
      "Epoch 15/100\n",
      "25361/25361 [==============================] - 12s 490us/step - loss: 5.4614 - acc: 0.3811\n",
      "Epoch 16/100\n",
      "25361/25361 [==============================] - 12s 492us/step - loss: 5.4375 - acc: 0.3799\n",
      "Epoch 17/100\n",
      "25361/25361 [==============================] - 12s 491us/step - loss: 5.3828 - acc: 0.3814\n",
      "Epoch 18/100\n",
      "25361/25361 [==============================] - 12s 492us/step - loss: 5.3572 - acc: 0.3813\n",
      "Epoch 19/100\n",
      "25361/25361 [==============================] - 12s 491us/step - loss: 5.3044 - acc: 0.3820\n",
      "Epoch 20/100\n",
      "25361/25361 [==============================] - 12s 492us/step - loss: 5.2731 - acc: 0.3815\n",
      "Epoch 21/100\n",
      "25361/25361 [==============================] - 12s 492us/step - loss: 5.2339 - acc: 0.3835\n",
      "Epoch 22/100\n",
      "25361/25361 [==============================] - 12s 492us/step - loss: 5.1995 - acc: 0.3833\n",
      "Epoch 23/100\n",
      "25361/25361 [==============================] - 12s 492us/step - loss: 5.1459 - acc: 0.3845\n",
      "Epoch 24/100\n",
      "25361/25361 [==============================] - 12s 493us/step - loss: 5.1218 - acc: 0.3855\n",
      "Epoch 25/100\n",
      "25361/25361 [==============================] - 12s 491us/step - loss: 5.0662 - acc: 0.3851\n",
      "Epoch 26/100\n",
      "25361/25361 [==============================] - 12s 492us/step - loss: 5.0334 - acc: 0.3861\n",
      "Epoch 27/100\n",
      "25361/25361 [==============================] - 12s 491us/step - loss: 4.9897 - acc: 0.3880\n",
      "Epoch 28/100\n",
      "25361/25361 [==============================] - 12s 492us/step - loss: 4.9455 - acc: 0.3887\n",
      "Epoch 29/100\n",
      "25361/25361 [==============================] - 12s 491us/step - loss: 4.9060 - acc: 0.3907\n",
      "Epoch 30/100\n",
      "25361/25361 [==============================] - 12s 492us/step - loss: 4.8766 - acc: 0.3921\n",
      "Epoch 31/100\n",
      "25361/25361 [==============================] - 12s 491us/step - loss: 4.8284 - acc: 0.3922\n",
      "Epoch 32/100\n",
      "25361/25361 [==============================] - 12s 492us/step - loss: 4.7774 - acc: 0.3971\n",
      "Epoch 33/100\n",
      "25361/25361 [==============================] - 12s 492us/step - loss: 4.7273 - acc: 0.3980\n",
      "Epoch 34/100\n",
      "25361/25361 [==============================] - 12s 492us/step - loss: 4.6818 - acc: 0.3988\n",
      "Epoch 35/100\n",
      "25361/25361 [==============================] - 12s 492us/step - loss: 4.6495 - acc: 0.4004\n",
      "Epoch 36/100\n",
      "25361/25361 [==============================] - 12s 492us/step - loss: 4.5944 - acc: 0.4020\n",
      "Epoch 37/100\n",
      "25361/25361 [==============================] - 12s 492us/step - loss: 4.5619 - acc: 0.4043\n",
      "Epoch 38/100\n",
      "25361/25361 [==============================] - 12s 492us/step - loss: 4.4889 - acc: 0.4093\n",
      "Epoch 39/100\n",
      "25361/25361 [==============================] - 12s 491us/step - loss: 4.4676 - acc: 0.4069\n",
      "Epoch 40/100\n",
      "25361/25361 [==============================] - 12s 492us/step - loss: 4.4252 - acc: 0.4106\n",
      "Epoch 41/100\n",
      "25361/25361 [==============================] - 12s 491us/step - loss: 4.3658 - acc: 0.4135\n",
      "Epoch 42/100\n",
      "25361/25361 [==============================] - 12s 492us/step - loss: 4.3542 - acc: 0.4147\n",
      "Epoch 43/100\n",
      "25361/25361 [==============================] - 12s 493us/step - loss: 4.3096 - acc: 0.4179\n",
      "Epoch 44/100\n",
      "25361/25361 [==============================] - 12s 492us/step - loss: 4.2597 - acc: 0.4207\n",
      "Epoch 45/100\n",
      "25361/25361 [==============================] - 12s 492us/step - loss: 4.2411 - acc: 0.4180\n",
      "Epoch 46/100\n",
      "25361/25361 [==============================] - 12s 492us/step - loss: 4.1978 - acc: 0.4230\n",
      "Epoch 47/100\n",
      "25361/25361 [==============================] - 12s 492us/step - loss: 4.1660 - acc: 0.4225\n",
      "Epoch 48/100\n",
      "25361/25361 [==============================] - 12s 491us/step - loss: 4.1601 - acc: 0.4251\n",
      "Epoch 49/100\n",
      "25361/25361 [==============================] - 12s 491us/step - loss: 4.1203 - acc: 0.4283\n",
      "Epoch 50/100\n",
      "25361/25361 [==============================] - 12s 491us/step - loss: 4.1093 - acc: 0.4295\n",
      "Epoch 51/100\n",
      "25361/25361 [==============================] - 12s 491us/step - loss: 4.0578 - acc: 0.4305\n",
      "Epoch 52/100\n",
      "25361/25361 [==============================] - 12s 492us/step - loss: 4.0373 - acc: 0.4323\n",
      "Epoch 53/100\n",
      "25361/25361 [==============================] - 12s 491us/step - loss: 4.0432 - acc: 0.4315\n",
      "Epoch 54/100\n",
      "25361/25361 [==============================] - 12s 491us/step - loss: 4.0216 - acc: 0.4325\n",
      "Epoch 55/100\n",
      "25361/25361 [==============================] - 12s 491us/step - loss: 3.9987 - acc: 0.4345\n",
      "Epoch 56/100\n",
      "25361/25361 [==============================] - 12s 491us/step - loss: 3.9616 - acc: 0.4369\n",
      "Epoch 57/100\n",
      "25361/25361 [==============================] - 12s 491us/step - loss: 3.9330 - acc: 0.4392\n",
      "Epoch 58/100\n",
      "25361/25361 [==============================] - 12s 491us/step - loss: 3.9193 - acc: 0.4391\n",
      "Epoch 59/100\n",
      "25361/25361 [==============================] - 12s 491us/step - loss: 3.8982 - acc: 0.4404\n",
      "Epoch 60/100\n",
      "25361/25361 [==============================] - 12s 492us/step - loss: 3.8659 - acc: 0.4444\n",
      "Epoch 61/100\n",
      "25361/25361 [==============================] - 12s 492us/step - loss: 3.8565 - acc: 0.4441\n",
      "Epoch 62/100\n",
      "25361/25361 [==============================] - 12s 492us/step - loss: 3.8326 - acc: 0.4460\n",
      "Epoch 63/100\n",
      "25361/25361 [==============================] - 12s 492us/step - loss: 3.8076 - acc: 0.4468\n",
      "Epoch 64/100\n",
      "25361/25361 [==============================] - 12s 492us/step - loss: 3.7961 - acc: 0.4461\n",
      "Epoch 65/100\n",
      "25361/25361 [==============================] - 12s 492us/step - loss: 3.7479 - acc: 0.4516\n",
      "Epoch 66/100\n",
      "25361/25361 [==============================] - 12s 492us/step - loss: 3.7294 - acc: 0.4538\n",
      "Epoch 67/100\n",
      "25361/25361 [==============================] - 12s 492us/step - loss: 3.7090 - acc: 0.4528\n",
      "Epoch 68/100\n",
      "25361/25361 [==============================] - 12s 492us/step - loss: 3.6477 - acc: 0.4580\n",
      "Epoch 69/100\n",
      "25361/25361 [==============================] - 12s 491us/step - loss: 3.6309 - acc: 0.4607\n",
      "Epoch 70/100\n",
      "25361/25361 [==============================] - 12s 492us/step - loss: 3.5680 - acc: 0.4649\n",
      "Epoch 71/100\n",
      "25361/25361 [==============================] - 12s 492us/step - loss: 3.5386 - acc: 0.4686\n",
      "Epoch 72/100\n",
      "25361/25361 [==============================] - 12s 493us/step - loss: 3.5135 - acc: 0.4691\n",
      "Epoch 73/100\n",
      "25361/25361 [==============================] - 12s 492us/step - loss: 3.4708 - acc: 0.4726\n",
      "Epoch 74/100\n",
      "25361/25361 [==============================] - 12s 492us/step - loss: 3.4136 - acc: 0.4765\n",
      "Epoch 75/100\n",
      "25361/25361 [==============================] - 12s 492us/step - loss: 3.3712 - acc: 0.4806\n",
      "Epoch 76/100\n",
      "25361/25361 [==============================] - 12s 492us/step - loss: 3.3188 - acc: 0.4821\n",
      "Epoch 77/100\n",
      "25361/25361 [==============================] - 12s 491us/step - loss: 3.3042 - acc: 0.4848\n",
      "Epoch 78/100\n",
      "25361/25361 [==============================] - 12s 490us/step - loss: 3.2832 - acc: 0.4856\n",
      "Epoch 79/100\n",
      "25361/25361 [==============================] - 12s 491us/step - loss: 3.2656 - acc: 0.4900\n",
      "Epoch 80/100\n",
      "25361/25361 [==============================] - 12s 491us/step - loss: 3.2240 - acc: 0.4934\n",
      "Epoch 81/100\n",
      "25361/25361 [==============================] - 12s 491us/step - loss: 3.1784 - acc: 0.5005\n",
      "Epoch 82/100\n",
      "25361/25361 [==============================] - 12s 491us/step - loss: 3.1687 - acc: 0.4981\n",
      "Epoch 83/100\n",
      "25361/25361 [==============================] - 12s 491us/step - loss: 3.1145 - acc: 0.5032\n",
      "Epoch 84/100\n",
      "25361/25361 [==============================] - 12s 491us/step - loss: 3.1146 - acc: 0.5055\n",
      "Epoch 85/100\n",
      "25361/25361 [==============================] - 12s 491us/step - loss: 3.0749 - acc: 0.5115\n",
      "Epoch 86/100\n",
      "25361/25361 [==============================] - 12s 491us/step - loss: 3.0696 - acc: 0.5110\n",
      "Epoch 87/100\n",
      "25361/25361 [==============================] - 12s 491us/step - loss: 3.0448 - acc: 0.5136\n",
      "Epoch 88/100\n",
      "25361/25361 [==============================] - 12s 491us/step - loss: 3.0101 - acc: 0.5161\n",
      "Epoch 89/100\n",
      "25361/25361 [==============================] - 12s 491us/step - loss: 3.0063 - acc: 0.5191\n",
      "Epoch 90/100\n",
      "25361/25361 [==============================] - 12s 492us/step - loss: 2.9876 - acc: 0.5197\n",
      "Epoch 91/100\n",
      "25361/25361 [==============================] - 12s 491us/step - loss: 2.9571 - acc: 0.5222\n",
      "Epoch 92/100\n",
      "25361/25361 [==============================] - 12s 491us/step - loss: 2.9267 - acc: 0.5279\n",
      "Epoch 93/100\n",
      "25361/25361 [==============================] - 12s 490us/step - loss: 2.9215 - acc: 0.5256\n",
      "Epoch 94/100\n",
      "25361/25361 [==============================] - 12s 491us/step - loss: 2.9012 - acc: 0.5316\n",
      "Epoch 95/100\n",
      "25361/25361 [==============================] - 12s 492us/step - loss: 2.8974 - acc: 0.5281\n",
      "Epoch 96/100\n",
      "25361/25361 [==============================] - 12s 491us/step - loss: 2.8609 - acc: 0.5363\n",
      "Epoch 97/100\n",
      "25361/25361 [==============================] - 12s 491us/step - loss: 2.8530 - acc: 0.5358\n",
      "Epoch 98/100\n",
      "25361/25361 [==============================] - 12s 491us/step - loss: 2.8351 - acc: 0.5400\n",
      "Epoch 99/100\n",
      "25361/25361 [==============================] - 12s 491us/step - loss: 2.8118 - acc: 0.5419\n",
      "Epoch 100/100\n",
      "25361/25361 [==============================] - 12s 491us/step - loss: 2.8191 - acc: 0.5404\n"
     ]
    },
    {
     "data": {
      "text/plain": [
       "0"
      ]
     },
     "execution_count": 12,
     "metadata": {},
     "output_type": "execute_result"
    }
   ],
   "source": [
    "history = model.fit(X, y, epochs=100, batch_size=100, verbose=1)\n",
    "gc.collect()"
   ]
  },
  {
   "cell_type": "code",
   "execution_count": null,
   "metadata": {
    "_uuid": "7bca48a1d0963cbf70685b75431435cef9499895"
   },
   "outputs": [
    {
     "data": {
      "image/png": "[encoded data removed]",
      "text/plain": [
       "<Figure size 432x288 with 1 Axes>"
      ]
     },
     "metadata": {
      "needs_background": "light"
     },
     "output_type": "display_data"
    }
   ],
   "source": [
    "plt.plot(history.history['acc'])\n",
    "plt.title('Model accuracy')\n",
    "plt.ylabel('Accuracy')\n",
    "plt.xlabel('Epoch')\n",
    "plt.show()"
   ]
  },
  {
   "cell_type": "markdown",
   "metadata": {},
   "source": [
    "## Test"
   ]
  },
  {
   "cell_type": "code",
   "execution_count": null,
   "metadata": {
    "_uuid": "debe961c93b72bef151d9aad3ca2cb500ee00aaa"
   },
   "outputs": [
    {
     "name": "stdout",
     "output_type": "stream",
     "text": [
      "7960\n"
     ]
    }
   ],
   "source": [
    "test = os.listdir(\"../../input/test/\")\n",
    "print(len(test))"
   ]
  },
  {
   "cell_type": "code",
   "execution_count": null,
   "metadata": {
    "_uuid": "72ed8198f519f7b1ae3efbc688933c78d8cdd0e4"
   },
   "outputs": [],
   "source": [
    "col = ['Image']\n",
    "test_df = pd.DataFrame(test, columns=col)\n",
    "test_df['Id'] = ''"
   ]
  },
  {
   "cell_type": "code",
   "execution_count": null,
   "metadata": {
    "_uuid": "52262195fc0b8755cff78bf8c98e6116d50f79af"
   },
   "outputs": [
    {
     "name": "stderr",
     "output_type": "stream",
     "text": [
      "100% (7960 of 7960) |####################| Elapsed Time: 0:00:56 Time:  0:00:56\n"
     ]
    }
   ],
   "source": [
    "X = prepareImages(test_df, test_df.shape[0], \"test\")\n",
    "X /= 255"
   ]
  },
  {
   "cell_type": "code",
   "execution_count": null,
   "metadata": {
    "_uuid": "88c8d8ff98fbdb1df4218abb6bd51889e855a6fb"
   },
   "outputs": [
    {
     "name": "stdout",
     "output_type": "stream",
     "text": [
      "7960/7960 [==============================] - 2s 195us/step\n"
     ]
    }
   ],
   "source": [
    "predictions = model.predict(np.array(X), verbose=1)"
   ]
  },
  {
   "cell_type": "code",
   "execution_count": null,
   "metadata": {
    "_uuid": "66f0bdde31b8c7847916268aa82d9a1bdc9c0658"
   },
   "outputs": [],
   "source": [
    "for i, pred in enumerate(predictions):\n",
    "    test_df.loc[i, 'Id'] = ' '.join(label_encoder.inverse_transform(pred.argsort()[-5:][::-1]))"
   ]
  },
  {
   "cell_type": "code",
   "execution_count": null,
   "metadata": {
    "_uuid": "09d7c1eb9b554e4e580b0c3c7eb609c15636892d"
   },
   "outputs": [],
   "source": [
    "test_df.head(10)\n",
    "test_df.to_csv('keras-cnn-starter_with_optimizer_Adadelta.csv', index=False) #> Score = 0.286"
   ]
  },
  {
   "cell_type": "code",
   "execution_count": 2,
   "metadata": {},
   "outputs": [
    {
     "name": "stdout",
     "output_type": "stream",
     "text": [
      "100%|█████████████████████████████████████████| 498k/498k [00:00<00:00, 113kB/s]\n",
      "Successfully submitted to Humpback Whale Identification"
     ]
    }
   ],
   "source": [
    "!kaggle competitions submit -c humpback-whale-identification -f \"keras-cnn-starter_with_optimizer_Adadelta.csv\" -m \"Keras CNN with optimizer Adadelta (64x64)\""
   ]
  },
  {
   "cell_type": "code",
   "execution_count": null,
   "metadata": {},
   "outputs": [],
   "source": [
    "!rm lock"
   ]
  },
  {
   "cell_type": "code",
   "execution_count": null,
   "metadata": {},
   "outputs": [
    {
     "data": {
      "application/javascript": [
       "// From https://github.com/jupyter/notebook/issues/1880\n",
       "Jupyter.notebook.session.delete();\n"
      ],
      "text/plain": [
       "<IPython.core.display.Javascript object>"
      ]
     },
     "metadata": {},
     "output_type": "display_data"
    }
   ],
   "source": [
    "%%javascript\n",
    "// From https://github.com/jupyter/notebook/issues/1880\n",
    "Jupyter.notebook.session.delete();"
   ]
  }
 ],
 "metadata": {
  "kernelspec": {
   "display_name": "Python 3",
   "language": "python",
   "name": "python3"
  },
  "language_info": {
   "codemirror_mode": {
    "name": "ipython",
    "version": 3
   },
   "file_extension": ".py",
   "mimetype": "text/x-python",
   "name": "python",
   "nbconvert_exporter": "python",
   "pygments_lexer": "ipython3",
   "version": "3.6.8"
  }
 },
 "nbformat": 4,
 "nbformat_minor": 1
}
