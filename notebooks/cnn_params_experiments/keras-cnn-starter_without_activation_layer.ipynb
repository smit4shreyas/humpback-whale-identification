{
 "cells": [
  {
   "cell_type": "markdown",
   "metadata": {
    "_uuid": "da035fe58e548e8b1b7e8e89725b9e6bc745aa7b"
   },
   "source": [
    "# Humpback Whale Identification - CNN with Keras"
   ]
  },
  {
   "cell_type": "code",
   "execution_count": 1,
   "metadata": {},
   "outputs": [],
   "source": [
    "import gc\n",
    "import os\n",
    "import time"
   ]
  },
  {
   "cell_type": "code",
   "execution_count": 2,
   "metadata": {},
   "outputs": [],
   "source": [
    "# Mutual exclusion trick :O (with a lock file) #Mutex #Beurk #DeepLearning\n",
    "while os.path.isfile(\"lock\"):\n",
    "    time.sleep(30)"
   ]
  },
  {
   "cell_type": "code",
   "execution_count": 3,
   "metadata": {},
   "outputs": [],
   "source": [
    "!touch lock"
   ]
  },
  {
   "cell_type": "code",
   "execution_count": 4,
   "metadata": {
    "_uuid": "0d9c73ad23e6c2eae3028255ee00c3254fe66401"
   },
   "outputs": [
    {
     "name": "stderr",
     "output_type": "stream",
     "text": [
      "Using TensorFlow backend.\n"
     ]
    }
   ],
   "source": [
    "import numpy as np\n",
    "import pandas as pd\n",
    "import progressbar\n",
    "\n",
    "import matplotlib.pyplot as plt\n",
    "import matplotlib.image as mplimg\n",
    "from matplotlib.pyplot import imshow\n",
    "\n",
    "from sklearn.preprocessing import LabelEncoder\n",
    "from sklearn.preprocessing import OneHotEncoder\n",
    "\n",
    "from keras import layers\n",
    "from keras.preprocessing import image\n",
    "from keras.applications.imagenet_utils import preprocess_input\n",
    "from keras.layers import Input, Dense, Activation, BatchNormalization, Flatten, Conv2D\n",
    "from keras.layers import AveragePooling2D, MaxPooling2D, Dropout\n",
    "from keras.models import Model\n",
    "\n",
    "import keras.backend as K\n",
    "from keras.models import Sequential\n",
    "\n",
    "import warnings\n",
    "warnings.simplefilter(\"ignore\", category=DeprecationWarning)"
   ]
  },
  {
   "cell_type": "code",
   "execution_count": 5,
   "metadata": {
    "_uuid": "46a8839e13a14eb8d16ea6823de9927ea63d5001"
   },
   "outputs": [
    {
     "data": {
      "text/html": [
       "<div>\n",
       "<style scoped>\n",
       "    .dataframe tbody tr th:only-of-type {\n",
       "        vertical-align: middle;\n",
       "    }\n",
       "\n",
       "    .dataframe tbody tr th {\n",
       "        vertical-align: top;\n",
       "    }\n",
       "\n",
       "    .dataframe thead th {\n",
       "        text-align: right;\n",
       "    }\n",
       "</style>\n",
       "<table border=\"1\" class=\"dataframe\">\n",
       "  <thead>\n",
       "    <tr style=\"text-align: right;\">\n",
       "      <th></th>\n",
       "      <th>Image</th>\n",
       "      <th>Id</th>\n",
       "    </tr>\n",
       "  </thead>\n",
       "  <tbody>\n",
       "    <tr>\n",
       "      <th>0</th>\n",
       "      <td>0000e88ab.jpg</td>\n",
       "      <td>w_f48451c</td>\n",
       "    </tr>\n",
       "    <tr>\n",
       "      <th>1</th>\n",
       "      <td>0001f9222.jpg</td>\n",
       "      <td>w_c3d896a</td>\n",
       "    </tr>\n",
       "    <tr>\n",
       "      <th>2</th>\n",
       "      <td>00029d126.jpg</td>\n",
       "      <td>w_20df2c5</td>\n",
       "    </tr>\n",
       "    <tr>\n",
       "      <th>3</th>\n",
       "      <td>00050a15a.jpg</td>\n",
       "      <td>new_whale</td>\n",
       "    </tr>\n",
       "    <tr>\n",
       "      <th>4</th>\n",
       "      <td>0005c1ef8.jpg</td>\n",
       "      <td>new_whale</td>\n",
       "    </tr>\n",
       "  </tbody>\n",
       "</table>\n",
       "</div>"
      ],
      "text/plain": [
       "           Image         Id\n",
       "0  0000e88ab.jpg  w_f48451c\n",
       "1  0001f9222.jpg  w_c3d896a\n",
       "2  00029d126.jpg  w_20df2c5\n",
       "3  00050a15a.jpg  new_whale\n",
       "4  0005c1ef8.jpg  new_whale"
      ]
     },
     "execution_count": 5,
     "metadata": {},
     "output_type": "execute_result"
    }
   ],
   "source": [
    "train_df = pd.read_csv(\"../../input/train.csv\")\n",
    "train_df.head()"
   ]
  },
  {
   "cell_type": "code",
   "execution_count": 6,
   "metadata": {
    "_uuid": "f46b24dbba74f22833cac6140e60348b15a8e047"
   },
   "outputs": [],
   "source": [
    "def prepareImages(data, m, dataset):\n",
    "    #print(\"Preparing images\")\n",
    "    #print(m)\n",
    "    X_train = np.zeros((m, 64, 64, 3))\n",
    "    count = 0\n",
    "    \n",
    "    for fig in progressbar.progressbar(data['Image']):\n",
    "        # load images into images of size 128x128x3\n",
    "        img = image.load_img(\"../../input/\"+dataset+\"/\"+fig, target_size=(64, 64, 3))\n",
    "        x = image.img_to_array(img)\n",
    "        x = preprocess_input(x)\n",
    "        X_train[count] = x\n",
    "        count += 1\n",
    "    \n",
    "    return X_train"
   ]
  },
  {
   "cell_type": "code",
   "execution_count": 7,
   "metadata": {
    "_uuid": "6587a101b58af064af0f9c60a1070c6c8f52d45f"
   },
   "outputs": [],
   "source": [
    "def prepare_labels(y):\n",
    "    values = np.array(y)\n",
    "    label_encoder = LabelEncoder()\n",
    "    integer_encoded = label_encoder.fit_transform(values)\n",
    "    #print(integer_encoded)\n",
    "\n",
    "    onehot_encoder = OneHotEncoder(sparse=False)\n",
    "    integer_encoded = integer_encoded.reshape(len(integer_encoded), 1)\n",
    "    onehot_encoded = onehot_encoder.fit_transform(integer_encoded)\n",
    "    #print(onehot_encoded)\n",
    "\n",
    "    y = onehot_encoded\n",
    "    #print(y.shape)\n",
    "    return y, label_encoder"
   ]
  },
  {
   "cell_type": "code",
   "execution_count": 8,
   "metadata": {
    "_uuid": "4afe4128a0cd6859848c8a80686208082d647c39"
   },
   "outputs": [
    {
     "name": "stderr",
     "output_type": "stream",
     "text": [
      "100% (25361 of 25361) |##################| Elapsed Time: 0:02:55 Time:  0:02:55\n"
     ]
    }
   ],
   "source": [
    "X = prepareImages(train_df, train_df.shape[0], \"train\")\n",
    "X /= 255"
   ]
  },
  {
   "cell_type": "code",
   "execution_count": 9,
   "metadata": {
    "_uuid": "675924f8863aef27cf90dc668e0a68cd609dfc1c"
   },
   "outputs": [
    {
     "name": "stderr",
     "output_type": "stream",
     "text": [
      "/opt/anaconda3/lib/python3.6/site-packages/sklearn/preprocessing/_encoders.py:368: FutureWarning: The handling of integer data will change in version 0.22. Currently, the categories are determined based on the range [0, max(values)], while in the future they will be determined based on the unique values.\n",
      "If you want the future behaviour and silence this warning, you can specify \"categories='auto'\".\n",
      "In case you used a LabelEncoder before this OneHotEncoder to convert the categories to integers, then you can now use the OneHotEncoder directly.\n",
      "  warnings.warn(msg, FutureWarning)\n"
     ]
    }
   ],
   "source": [
    "y, label_encoder = prepare_labels(train_df['Id'])"
   ]
  },
  {
   "cell_type": "code",
   "execution_count": 10,
   "metadata": {
    "_uuid": "14d243b19023e830b636bea16679e13bc40deae6"
   },
   "outputs": [
    {
     "data": {
      "text/plain": [
       "(25361, 5005)"
      ]
     },
     "execution_count": 10,
     "metadata": {},
     "output_type": "execute_result"
    }
   ],
   "source": [
    "y.shape"
   ]
  },
  {
   "cell_type": "markdown",
   "metadata": {},
   "source": [
    "# Change model starting from here"
   ]
  },
  {
   "cell_type": "markdown",
   "metadata": {},
   "source": [
    "## Train"
   ]
  },
  {
   "cell_type": "code",
   "execution_count": 11,
   "metadata": {
    "_uuid": "e7af799d186a1b97b6aa325d7d576a1fb55a6c5d"
   },
   "outputs": [
    {
     "name": "stdout",
     "output_type": "stream",
     "text": [
      "_________________________________________________________________\n",
      "Layer (type)                 Output Shape              Param #   \n",
      "=================================================================\n",
      "conv0 (Conv2D)               (None, 58, 58, 32)        4736      \n",
      "_________________________________________________________________\n",
      "bn0 (BatchNormalization)     (None, 58, 58, 32)        128       \n",
      "_________________________________________________________________\n",
      "max_pool (MaxPooling2D)      (None, 29, 29, 32)        0         \n",
      "_________________________________________________________________\n",
      "conv1 (Conv2D)               (None, 27, 27, 64)        18496     \n",
      "_________________________________________________________________\n",
      "avg_pool (AveragePooling2D)  (None, 9, 9, 64)          0         \n",
      "_________________________________________________________________\n",
      "flatten_1 (Flatten)          (None, 5184)              0         \n",
      "_________________________________________________________________\n",
      "rl (Dense)                   (None, 500)               2592500   \n",
      "_________________________________________________________________\n",
      "dropout_1 (Dropout)          (None, 500)               0         \n",
      "_________________________________________________________________\n",
      "sm (Dense)                   (None, 5005)              2507505   \n",
      "=================================================================\n",
      "Total params: 5,123,365\n",
      "Trainable params: 5,123,301\n",
      "Non-trainable params: 64\n",
      "_________________________________________________________________\n"
     ]
    }
   ],
   "source": [
    "model = Sequential()\n",
    "\n",
    "model.add(Conv2D(32, (7, 7), strides = (1, 1), name = 'conv0', input_shape = (64, 64, 3)))\n",
    "\n",
    "model.add(BatchNormalization(axis = 3, name = 'bn0'))\n",
    "\n",
    "model.add(MaxPooling2D((2, 2), name='max_pool'))\n",
    "model.add(Conv2D(64, (3, 3), strides = (1,1), name=\"conv1\"))\n",
    "model.add(AveragePooling2D((3, 3), name='avg_pool'))\n",
    "\n",
    "model.add(Flatten())\n",
    "model.add(Dense(500, name='rl'))\n",
    "model.add(Dropout(0.8))\n",
    "model.add(Dense(y.shape[1], name='sm'))\n",
    "\n",
    "model.compile(loss='categorical_crossentropy', optimizer=\"adam\", metrics=['accuracy'])\n",
    "model.summary()"
   ]
  },
  {
   "cell_type": "code",
   "execution_count": 12,
   "metadata": {
    "_uuid": "169f45e150c3a584e0f655a8eda523e0675da63a"
   },
   "outputs": [
    {
     "name": "stdout",
     "output_type": "stream",
     "text": [
      "Epoch 1/100\n",
      "25361/25361 [==============================] - 13s 497us/step - loss: 11.8544 - acc: 0.1164\n",
      "Epoch 2/100\n",
      "25361/25361 [==============================] - 11s 433us/step - loss: 11.6678 - acc: 0.1872\n",
      "Epoch 3/100\n",
      "25361/25361 [==============================] - 11s 434us/step - loss: 11.7506 - acc: 0.0843\n",
      "Epoch 4/100\n",
      "25361/25361 [==============================] - 11s 436us/step - loss: 11.1236 - acc: 0.0716\n",
      "Epoch 5/100\n",
      "25361/25361 [==============================] - 11s 436us/step - loss: 12.3989 - acc: 0.1628\n",
      "Epoch 6/100\n",
      "25361/25361 [==============================] - 11s 436us/step - loss: 11.9432 - acc: 0.0287\n",
      "Epoch 7/100\n",
      "25361/25361 [==============================] - 11s 436us/step - loss: 10.9966 - acc: 0.0422\n",
      "Epoch 8/100\n",
      "25361/25361 [==============================] - 11s 437us/step - loss: 11.5008 - acc: 0.0289\n",
      "Epoch 9/100\n",
      "25361/25361 [==============================] - 11s 437us/step - loss: 11.5688 - acc: 0.0280\n",
      "Epoch 10/100\n",
      "25361/25361 [==============================] - 11s 437us/step - loss: 11.2529 - acc: 0.0291\n",
      "Epoch 11/100\n",
      "25361/25361 [==============================] - 11s 438us/step - loss: 9.9778 - acc: 0.1212\n",
      "Epoch 12/100\n",
      "25361/25361 [==============================] - 11s 438us/step - loss: 11.9808 - acc: 0.0936\n",
      "Epoch 13/100\n",
      "25361/25361 [==============================] - 11s 438us/step - loss: 12.3908 - acc: 0.0969\n",
      "Epoch 14/100\n",
      "25361/25361 [==============================] - 11s 438us/step - loss: 10.6594 - acc: 0.0407\n",
      "Epoch 15/100\n",
      "25361/25361 [==============================] - 11s 438us/step - loss: 10.8879 - acc: 0.1467\n",
      "Epoch 16/100\n",
      "25361/25361 [==============================] - 11s 438us/step - loss: 12.5821 - acc: 0.1538\n",
      "Epoch 17/100\n",
      "25361/25361 [==============================] - 11s 438us/step - loss: 11.8416 - acc: 0.1764\n",
      "Epoch 18/100\n",
      "25361/25361 [==============================] - 11s 438us/step - loss: 12.2113 - acc: 0.2198\n",
      "Epoch 19/100\n",
      "25361/25361 [==============================] - 11s 438us/step - loss: 11.6569 - acc: 0.1656\n",
      "Epoch 20/100\n",
      "25361/25361 [==============================] - 11s 438us/step - loss: 11.3129 - acc: 0.2133\n",
      "Epoch 21/100\n",
      "25361/25361 [==============================] - 11s 438us/step - loss: 11.2801 - acc: 0.2778\n",
      "Epoch 22/100\n",
      "25361/25361 [==============================] - 11s 438us/step - loss: 11.0967 - acc: 0.2109\n",
      "Epoch 23/100\n",
      "25361/25361 [==============================] - 11s 438us/step - loss: 11.0381 - acc: 0.2237\n",
      "Epoch 24/100\n",
      "25361/25361 [==============================] - 11s 438us/step - loss: 11.2750 - acc: 0.2034\n",
      "Epoch 25/100\n",
      "25361/25361 [==============================] - 11s 438us/step - loss: 11.1955 - acc: 0.2336\n",
      "Epoch 26/100\n",
      "25361/25361 [==============================] - 11s 438us/step - loss: 11.3322 - acc: 0.2412\n",
      "Epoch 27/100\n",
      "25361/25361 [==============================] - 11s 439us/step - loss: 11.1945 - acc: 0.2105\n",
      "Epoch 28/100\n",
      "25361/25361 [==============================] - 11s 439us/step - loss: 11.0494 - acc: 0.2082\n",
      "Epoch 29/100\n",
      "25361/25361 [==============================] - 11s 439us/step - loss: 11.0611 - acc: 0.2349\n",
      "Epoch 30/100\n",
      "25361/25361 [==============================] - 11s 439us/step - loss: 11.4095 - acc: 0.2478\n",
      "Epoch 31/100\n",
      "25361/25361 [==============================] - 11s 439us/step - loss: 11.2282 - acc: 0.2480\n",
      "Epoch 32/100\n",
      "25361/25361 [==============================] - 11s 439us/step - loss: 11.1277 - acc: 0.2489\n",
      "Epoch 33/100\n",
      "25361/25361 [==============================] - 11s 439us/step - loss: 10.8798 - acc: 0.2531\n",
      "Epoch 34/100\n",
      "25361/25361 [==============================] - 11s 439us/step - loss: 10.9957 - acc: 0.2791\n",
      "Epoch 35/100\n",
      "25361/25361 [==============================] - 11s 439us/step - loss: 11.0472 - acc: 0.2700\n",
      "Epoch 36/100\n",
      "25361/25361 [==============================] - 11s 439us/step - loss: 11.1329 - acc: 0.2600\n",
      "Epoch 37/100\n",
      "25361/25361 [==============================] - 11s 439us/step - loss: 11.1396 - acc: 0.2373\n",
      "Epoch 38/100\n",
      "25361/25361 [==============================] - 11s 439us/step - loss: 10.9024 - acc: 0.2425\n",
      "Epoch 39/100\n",
      "25361/25361 [==============================] - 11s 439us/step - loss: 10.7047 - acc: 0.2308\n",
      "Epoch 40/100\n",
      "25361/25361 [==============================] - 11s 439us/step - loss: 10.6653 - acc: 0.2271\n",
      "Epoch 41/100\n",
      "25361/25361 [==============================] - 11s 439us/step - loss: 10.9004 - acc: 0.2323\n",
      "Epoch 42/100\n",
      "25361/25361 [==============================] - 11s 439us/step - loss: 10.5491 - acc: 0.2768\n",
      "Epoch 43/100\n",
      "25361/25361 [==============================] - 11s 439us/step - loss: 10.7474 - acc: 0.3445\n",
      "Epoch 44/100\n",
      "25361/25361 [==============================] - 11s 439us/step - loss: 10.7397 - acc: 0.3457\n",
      "Epoch 45/100\n",
      "25361/25361 [==============================] - 11s 439us/step - loss: 10.6600 - acc: 0.3235\n",
      "Epoch 46/100\n",
      "25361/25361 [==============================] - 11s 439us/step - loss: 10.8031 - acc: 0.3056\n",
      "Epoch 47/100\n",
      "25361/25361 [==============================] - 11s 439us/step - loss: 10.6390 - acc: 0.3087\n",
      "Epoch 48/100\n",
      "25361/25361 [==============================] - 11s 439us/step - loss: 10.6145 - acc: 0.3169\n",
      "Epoch 49/100\n",
      "25361/25361 [==============================] - 11s 439us/step - loss: 10.5827 - acc: 0.3199\n",
      "Epoch 50/100\n",
      "25361/25361 [==============================] - 11s 439us/step - loss: 10.5386 - acc: 0.3511\n",
      "Epoch 51/100\n",
      "25361/25361 [==============================] - 11s 439us/step - loss: 10.6021 - acc: 0.3492\n",
      "Epoch 52/100\n",
      "25361/25361 [==============================] - 11s 439us/step - loss: 10.2591 - acc: 0.3484\n",
      "Epoch 53/100\n",
      "25361/25361 [==============================] - 11s 438us/step - loss: 10.3206 - acc: 0.3342\n",
      "Epoch 54/100\n",
      "25361/25361 [==============================] - 11s 438us/step - loss: 10.2388 - acc: 0.3423\n",
      "Epoch 55/100\n",
      "25361/25361 [==============================] - 11s 437us/step - loss: 10.2832 - acc: 0.3521\n",
      "Epoch 56/100\n",
      "25361/25361 [==============================] - 11s 436us/step - loss: 10.2030 - acc: 0.3559\n",
      "Epoch 57/100\n",
      "25361/25361 [==============================] - 11s 435us/step - loss: 10.2793 - acc: 0.3687\n",
      "Epoch 58/100\n",
      "25361/25361 [==============================] - 11s 435us/step - loss: 10.2043 - acc: 0.3734\n",
      "Epoch 59/100\n",
      "25361/25361 [==============================] - 11s 435us/step - loss: 10.1329 - acc: 0.3636\n",
      "Epoch 60/100\n",
      "25361/25361 [==============================] - 11s 435us/step - loss: 10.0620 - acc: 0.3482\n",
      "Epoch 61/100\n",
      "25361/25361 [==============================] - 11s 436us/step - loss: 9.9106 - acc: 0.3321\n",
      "Epoch 62/100\n",
      "25361/25361 [==============================] - 11s 435us/step - loss: 9.9429 - acc: 0.3368\n",
      "Epoch 63/100\n",
      "25361/25361 [==============================] - 11s 435us/step - loss: 10.1123 - acc: 0.3268\n",
      "Epoch 64/100\n",
      "25361/25361 [==============================] - 11s 435us/step - loss: 10.0485 - acc: 0.3263\n",
      "Epoch 65/100\n",
      "25361/25361 [==============================] - 11s 435us/step - loss: 10.0575 - acc: 0.3509\n",
      "Epoch 66/100\n",
      "25361/25361 [==============================] - 11s 435us/step - loss: 10.1047 - acc: 0.3714\n",
      "Epoch 67/100\n",
      "25361/25361 [==============================] - 11s 436us/step - loss: 9.9683 - acc: 0.3621\n",
      "Epoch 68/100\n",
      "25361/25361 [==============================] - 11s 436us/step - loss: 9.8932 - acc: 0.3341\n",
      "Epoch 69/100\n",
      "25361/25361 [==============================] - 11s 436us/step - loss: 9.8808 - acc: 0.3366\n",
      "Epoch 70/100\n",
      "25361/25361 [==============================] - 11s 435us/step - loss: 9.8283 - acc: 0.3367\n",
      "Epoch 71/100\n",
      "25361/25361 [==============================] - 11s 435us/step - loss: 9.6128 - acc: 0.3380\n",
      "Epoch 72/100\n",
      "25361/25361 [==============================] - 11s 435us/step - loss: 9.6606 - acc: 0.3406\n",
      "Epoch 73/100\n",
      "25361/25361 [==============================] - 11s 435us/step - loss: 9.7111 - acc: 0.3435\n",
      "Epoch 74/100\n",
      "25361/25361 [==============================] - 11s 435us/step - loss: 9.5695 - acc: 0.3458\n",
      "Epoch 75/100\n",
      "25361/25361 [==============================] - 11s 435us/step - loss: 9.6045 - acc: 0.3468\n",
      "Epoch 76/100\n",
      "25361/25361 [==============================] - 11s 435us/step - loss: 9.5720 - acc: 0.3519\n",
      "Epoch 77/100\n",
      "25361/25361 [==============================] - 11s 435us/step - loss: 9.4112 - acc: 0.3559\n",
      "Epoch 78/100\n",
      "25361/25361 [==============================] - 11s 436us/step - loss: 9.4373 - acc: 0.3592\n",
      "Epoch 79/100\n"
     ]
    },
    {
     "name": "stdout",
     "output_type": "stream",
     "text": [
      "25361/25361 [==============================] - 11s 433us/step - loss: 9.4603 - acc: 0.3601\n",
      "Epoch 80/100\n",
      "25361/25361 [==============================] - 11s 432us/step - loss: 9.5712 - acc: 0.3652\n",
      "Epoch 81/100\n",
      "25361/25361 [==============================] - 11s 433us/step - loss: 9.3486 - acc: 0.3692\n",
      "Epoch 82/100\n",
      "25361/25361 [==============================] - 11s 432us/step - loss: 9.5730 - acc: 0.3691\n",
      "Epoch 83/100\n",
      "25361/25361 [==============================] - 11s 432us/step - loss: 9.4532 - acc: 0.3698\n",
      "Epoch 84/100\n",
      "25361/25361 [==============================] - 11s 432us/step - loss: 9.6330 - acc: 0.3720\n",
      "Epoch 85/100\n",
      "25361/25361 [==============================] - 11s 432us/step - loss: 9.6541 - acc: 0.3719\n",
      "Epoch 86/100\n",
      "25361/25361 [==============================] - 11s 432us/step - loss: 9.4963 - acc: 0.3520\n",
      "Epoch 87/100\n",
      "25361/25361 [==============================] - 11s 432us/step - loss: 9.6135 - acc: 0.3540\n",
      "Epoch 88/100\n",
      "25361/25361 [==============================] - 11s 432us/step - loss: 9.3767 - acc: 0.3556\n",
      "Epoch 89/100\n",
      "25361/25361 [==============================] - 11s 432us/step - loss: 9.2768 - acc: 0.3729\n",
      "Epoch 90/100\n",
      "25361/25361 [==============================] - 11s 432us/step - loss: 9.0959 - acc: 0.3743\n",
      "Epoch 91/100\n",
      "25361/25361 [==============================] - 11s 433us/step - loss: 8.9713 - acc: 0.3743\n",
      "Epoch 92/100\n",
      "25361/25361 [==============================] - 11s 432us/step - loss: 9.1593 - acc: 0.3744\n",
      "Epoch 93/100\n",
      "25361/25361 [==============================] - 11s 432us/step - loss: 9.0196 - acc: 0.3750\n",
      "Epoch 94/100\n",
      "25361/25361 [==============================] - 11s 432us/step - loss: 8.9410 - acc: 0.3753\n",
      "Epoch 95/100\n",
      "25361/25361 [==============================] - 11s 432us/step - loss: 8.8484 - acc: 0.3755\n",
      "Epoch 96/100\n",
      "25361/25361 [==============================] - 11s 433us/step - loss: 8.8616 - acc: 0.3748\n",
      "Epoch 97/100\n",
      "25361/25361 [==============================] - 11s 433us/step - loss: 8.8819 - acc: 0.3750\n",
      "Epoch 98/100\n",
      "25361/25361 [==============================] - 11s 433us/step - loss: 8.9035 - acc: 0.3744\n",
      "Epoch 99/100\n",
      "25361/25361 [==============================] - 11s 432us/step - loss: 9.0118 - acc: 0.3661\n",
      "Epoch 100/100\n",
      "25361/25361 [==============================] - 11s 432us/step - loss: 8.7859 - acc: 0.3661\n"
     ]
    },
    {
     "data": {
      "text/plain": [
       "0"
      ]
     },
     "execution_count": 12,
     "metadata": {},
     "output_type": "execute_result"
    }
   ],
   "source": [
    "history = model.fit(X, y, epochs=100, batch_size=100, verbose=1)\n",
    "gc.collect()"
   ]
  },
  {
   "cell_type": "code",
   "execution_count": null,
   "metadata": {
    "_uuid": "7bca48a1d0963cbf70685b75431435cef9499895"
   },
   "outputs": [
    {
     "data": {
      "image/png": "[encoded data removed]",
      "text/plain": [
       "<Figure size 432x288 with 1 Axes>"
      ]
     },
     "metadata": {
      "needs_background": "light"
     },
     "output_type": "display_data"
    }
   ],
   "source": [
    "plt.plot(history.history['acc'])\n",
    "plt.title('Model accuracy')\n",
    "plt.ylabel('Accuracy')\n",
    "plt.xlabel('Epoch')\n",
    "plt.show()"
   ]
  },
  {
   "cell_type": "markdown",
   "metadata": {},
   "source": [
    "## Test"
   ]
  },
  {
   "cell_type": "code",
   "execution_count": null,
   "metadata": {
    "_uuid": "debe961c93b72bef151d9aad3ca2cb500ee00aaa"
   },
   "outputs": [
    {
     "name": "stdout",
     "output_type": "stream",
     "text": [
      "7960\n"
     ]
    }
   ],
   "source": [
    "test = os.listdir(\"../../input/test/\")\n",
    "print(len(test))"
   ]
  },
  {
   "cell_type": "code",
   "execution_count": null,
   "metadata": {
    "_uuid": "72ed8198f519f7b1ae3efbc688933c78d8cdd0e4"
   },
   "outputs": [],
   "source": [
    "col = ['Image']\n",
    "test_df = pd.DataFrame(test, columns=col)\n",
    "test_df['Id'] = ''"
   ]
  },
  {
   "cell_type": "code",
   "execution_count": null,
   "metadata": {
    "_uuid": "52262195fc0b8755cff78bf8c98e6116d50f79af"
   },
   "outputs": [
    {
     "name": "stderr",
     "output_type": "stream",
     "text": [
      "100% (7960 of 7960) |####################| Elapsed Time: 0:00:56 Time:  0:00:56\n"
     ]
    }
   ],
   "source": [
    "X = prepareImages(test_df, test_df.shape[0], \"test\")\n",
    "X /= 255"
   ]
  },
  {
   "cell_type": "code",
   "execution_count": null,
   "metadata": {
    "_uuid": "88c8d8ff98fbdb1df4218abb6bd51889e855a6fb"
   },
   "outputs": [
    {
     "name": "stdout",
     "output_type": "stream",
     "text": [
      "7960/7960 [==============================] - 1s 181us/step\n"
     ]
    }
   ],
   "source": [
    "predictions = model.predict(np.array(X), verbose=1)"
   ]
  },
  {
   "cell_type": "code",
   "execution_count": null,
   "metadata": {
    "_uuid": "66f0bdde31b8c7847916268aa82d9a1bdc9c0658"
   },
   "outputs": [],
   "source": [
    "for i, pred in enumerate(predictions):\n",
    "    test_df.loc[i, 'Id'] = ' '.join(label_encoder.inverse_transform(pred.argsort()[-5:][::-1]))"
   ]
  },
  {
   "cell_type": "code",
   "execution_count": null,
   "metadata": {
    "_uuid": "09d7c1eb9b554e4e580b0c3c7eb609c15636892d"
   },
   "outputs": [],
   "source": [
    "test_df.head(10)\n",
    "test_df.to_csv('keras-cnn-starter_without_activation_layer.csv', index=False) #> Score = 0.286"
   ]
  },
  {
   "cell_type": "code",
   "execution_count": null,
   "metadata": {},
   "outputs": [
    {
     "name": "stdout",
     "output_type": "stream",
     "text": [
      "100%|████████████████████████████████████████| 498k/498k [00:05<00:00, 92.2kB/s]\n",
      "Successfully submitted to Humpback Whale Identification"
     ]
    }
   ],
   "source": [
    "!kaggle competitions submit -c humpback-whale-identification -f \"keras-cnn-starter_without_activation_layer.csv\" -m \"Keras CNN without activation layer (64x64)\""
   ]
  },
  {
   "cell_type": "code",
   "execution_count": null,
   "metadata": {},
   "outputs": [],
   "source": [
    "!rm lock"
   ]
  },
  {
   "cell_type": "code",
   "execution_count": null,
   "metadata": {},
   "outputs": [
    {
     "data": {
      "application/javascript": [
       "// From https://github.com/jupyter/notebook/issues/1880\n",
       "Jupyter.notebook.session.delete();\n"
      ],
      "text/plain": [
       "<IPython.core.display.Javascript object>"
      ]
     },
     "metadata": {},
     "output_type": "display_data"
    }
   ],
   "source": [
    "%%javascript\n",
    "// From https://github.com/jupyter/notebook/issues/1880\n",
    "Jupyter.notebook.session.delete();"
   ]
  }
 ],
 "metadata": {
  "kernelspec": {
   "display_name": "Python 3",
   "language": "python",
   "name": "python3"
  },
  "language_info": {
   "codemirror_mode": {
    "name": "ipython",
    "version": 3
   },
   "file_extension": ".py",
   "mimetype": "text/x-python",
   "name": "python",
   "nbconvert_exporter": "python",
   "pygments_lexer": "ipython3",
   "version": "3.6.8"
  }
 },
 "nbformat": 4,
 "nbformat_minor": 1
}
